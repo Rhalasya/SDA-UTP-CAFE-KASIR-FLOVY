{
  "nbformat": 4,
  "nbformat_minor": 0,
  "metadata": {
    "colab": {
      "provenance": []
    },
    "kernelspec": {
      "name": "python3",
      "display_name": "Python 3"
    },
    "language_info": {
      "name": "python"
    }
  },
  "cells": [
    {
      "cell_type": "code",
      "execution_count": null,
      "metadata": {
        "id": "m_VVF0zj5T_W"
      },
      "outputs": [],
      "source": [
        "lagi = input(\"Apakah ada tambahan? (y/n): \")\n",
        "lagi = lagi.lower()\n",
        "while lagi != 'n':\n",
        "  order = int(input(\"Ingin pesan nomor berapa? \" ))\n",
        "  pesanan = items[order-1]\n",
        "  jml = int(input(\"Mau pesan berapa? \"))\n",
        "  total += pesanan.total_bayar(jml)\n",
        "\n",
        "  nama_pesanan.append(pesanan.nama)\n",
        "  jumlah.append(jml)\n",
        "  harga.append(pesanan.total_bayar(jml))\n",
        "\n",
        "  lagi = input(\"Apakah ada tambahan? (y/n): \")\n",
        "  lagi = lagi.lower()"
      ]
    }
  ]
}