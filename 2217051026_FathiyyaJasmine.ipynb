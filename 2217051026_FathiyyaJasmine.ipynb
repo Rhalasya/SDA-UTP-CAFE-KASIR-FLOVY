{
  "nbformat": 4,
  "nbformat_minor": 0,
  "metadata": {
    "colab": {
      "provenance": []
    },
    "kernelspec": {
      "name": "python3",
      "display_name": "Python 3"
    },
    "language_info": {
      "name": "python"
    }
  },
  "cells": [
    {
      "cell_type": "code",
      "source": [
        "items = [drink1, drink2, drink3, drink4, drink5,\n",
        "        meals1, meals2, meals3, meals4, meals5]\n",
        "index = 1\n",
        "\n",
        "for item in items:\n",
        "  print(str(index) + \". \" + item.rincian())\n",
        "  index += 1\n",
        "\n",
        "print(\"------------------------------------------\")\n",
        "order = int(input(\"Ingin pesan menu nomor berapa? \"))\n",
        "pesanan = items[order-1]\n",
        "jml = int(input(\"Mau pesan berapa? \"))\n",
        "total = pesanan.total_bayar(jml)\n",
        "\n",
        "jumlah = [jml]\n",
        "nama_pesanan = [pesanan.nama]\n",
        "harga = [total]\n",
        "\n",
      ],
      "metadata": {
        "id": "_J6roFC4ykox"
      },
      "execution_count": null,
      "outputs": []
    }
  ]
}
