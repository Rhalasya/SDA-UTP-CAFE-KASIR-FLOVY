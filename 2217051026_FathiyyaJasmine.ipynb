{
  "nbformat": 4,
  "nbformat_minor": 0,
  "metadata": {
    "colab": {
      "provenance": []
    },
    "kernelspec": {
      "name": "python3",
      "display_name": "Python 3"
    },
    "language_info": {
      "name": "python"
    }
  },
  "cells": [
    {
      "cell_type": "code",
      "execution_count": null,
      "metadata": {
        "id": "uklaBUnsD3LR"
      },
      "outputs": [],
      "source": [
        "nilai = eval(input('Masukkan nilai anda : '))\n",
        "\n",
        "if nilai >= 76:\n",
        "  print ('A')\n",
        "elif nilai >= 71 and nilai <76:\n",
        "  print ('B+')\n",
        "elif nilai >= 66 and nilai <71:\n",
        "  print ('B')\n",
        "elif nilai >= 61 and nilai <66:\n",
        "  print ('C+')\n",
        "elif nilai >= 56 and nilai <61:\n",
        "  print ('C')\n",
        "elif nilai >= 50 and nilai <56:\n",
        "  print ('D')\n",
        "elif nilai >0 and nilai <50:\n",
        "  print ('E')\n",
        "else: \n",
        "  print('Inputan salah!')\n"
      ]
    },
    {
      "cell_type": "code",
      "source": [
        "bilangan = int(input('Masukkan bilangan: '))\n",
        "if bilangan % 2 == 0:\n",
        "  print('%d adalah bilangan genap' % bilangan)\n",
        "else:\n",
        "  print('%d adalah bilangan ganjil' % bilangan)"
      ],
      "metadata": {
        "id": "4JAoc-3VHZr2"
      },
      "execution_count": null,
      "outputs": []
    },
    {
      "cell_type": "markdown",
      "source": [
        "Algoritma Menghitung_Ratarata\n",
        "{Algoritma menghitung rata-rata dari tiga bilangan yang diinputkan }\n",
        "\n",
        "Deklarasi :\n",
        "bilangan1 : real {deklarasi variabel bilangan1 sebagai nilai bilangan pertama }\n",
        "bilangan2 : real {deklarasi variabel bilangan2 sebagai nilai bilangan pertama }\n",
        "bilangan3 : real {deklarasi variabel bilangan3 sebagai nilai bilangan ketiga}\n",
        "rata_rata : real {mendeklarasikan hasil dari rata-rata variabel bilangan1, bilangan2, bilangan3}\n",
        "\n",
        "\n",
        "Deskripsi:\n",
        "read (bilangan1) {baca input vaariabel bilangan1 dari keyboard}\n",
        "read (bilangan2) {baca input variabel bilangan2 dari keyboard}\n",
        "read (bilangan2) {baca input variabel bilangan3 dari keyboard}\n",
        "rata_rata <- (bilangan1, bilangan2, bilangan3)/3 {mencari nilai rata-rata dari ketiga bilangan lalu dibagi dengan banyak data)\n",
        "write (rata_rata) {mencetak angka terbesar dari kedua bilangan yang diinputkan}\n"
      ],
      "metadata": {
        "id": "1r_Wd6IVTXZp"
      }
    },
    {
      "cell_type": "markdown",
      "source": [
        "Algortima Mencari_Bilangan_Terbesar\n",
        "{Algoritma mencari bilangan terbesar dari dua bilangan yang diinputkan}\n",
        "\n",
        "Deklarasi:\n",
        "bilangan1 : real {deklarasi variabel bilangan1 sebagai nilai bilangan pertama}\n",
        "bilangan2 : real {deklarasi variabel bilangan2 sebagai nilai bilangan kedua}\n",
        "\n",
        "Deskripsi:\n",
        "read(bilangan1) {baca input vaariabel bilangan1 dari keyboard}\n",
        "read(bilangan2) {baca input vaariabel bilangan2 dari keyboard}\n",
        "max(bilangan1,bilangan2) {Mencari nilai terbesar menggunakan fungsi max () }\n",
        "write (max(bilangan1,bilangan2)) {Mencetak nilai terbesar}"
      ],
      "metadata": {
        "id": "O_92GQlyLx4h"
      }
    }
  ]
}