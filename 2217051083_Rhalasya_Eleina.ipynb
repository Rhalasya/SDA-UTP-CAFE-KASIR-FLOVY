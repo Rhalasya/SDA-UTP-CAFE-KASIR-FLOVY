{
  "nbformat": 4,
  "nbformat_minor": 0,
  "metadata": {
    "colab": {
      "provenance": [],
      "toc_visible": true
    },
    "kernelspec": {
      "name": "python3",
      "display_name": "Python 3"
    },
    "language_info": {
      "name": "python"
    }
  },
  "cells": [
    {
      "cell_type": "code",
      "execution_count": 1,
      "metadata": {
        "colab": {
          "base_uri": "https://localhost:8080/"
        },
        "id": "Kyf81DTk46oz",
        "outputId": "506adaab-da35-4f6b-956d-ec99f92647fd"
      },
      "outputs": [
        {
          "output_type": "stream",
          "name": "stdout",
          "text": [
            "------------------------------------------\n",
            "Selamat datang di cafe full flowvy.\n",
            "------------------------------------------\n",
            "Siapa nama anda? elen\n",
            " \n",
            "-------------- {   MENU   } --------------\n"
          ]
        }
      ],
      "source": [
        "class menucafe:\n",
        "  def __init__ (self, nama, harga):\n",
        "    self.nama = nama\n",
        "    self.harga = harga\n",
        "\n",
        "  def rincian(self):\n",
        "    return(self.nama + \": Rp \" + str(self.harga))\n",
        "\n",
        "  def total_bayar(self, jumlah):\n",
        "    total = self.harga * jumlah\n",
        "    return(total)\n",
        "\n",
        "\n",
        "print(\"------------------------------------------\")\n",
        "print(\"Selamat datang di cafe full flowvy.\")\n",
        "print(\"------------------------------------------\")\n",
        "pembeli = input(\"Siapa nama anda? \")\n",
        "print(\" \")\n",
        "print(\"-------------- {   MENU   } --------------\")\n",
        "\n",
        "drink1 = menucafe('Americano', 18000)\n",
        "drink2 = menucafe('Vanilla Latte', 18000)\n",
        "drink3 = menucafe('Cappucino', 15000)\n",
        "drink4 = menucafe('Machiato', 18000)\n",
        "drink5 = menucafe('Oreo Milkshake', 15000)\n",
        "meals1 = menucafe('Lava Cake', 16000)\n",
        "meals2 = menucafe('Crepe Cake', 17000)\n",
        "meals3 = menucafe('Sponge Cake', 20000)\n",
        "meals4 = menucafe('Cheese Cake', 20000)\n",
        "meals5 = menucafe('Lunch Box Cake', 23000)"
      ]
    },
    {
      "cell_type": "markdown",
      "source": [],
      "metadata": {
        "id": "kwN9ZYiS48Nn"
      }
    }
  ]
}